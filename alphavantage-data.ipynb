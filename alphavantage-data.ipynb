{
 "cells": [
  {
   "cell_type": "markdown",
   "metadata": {},
   "source": [
    "<img src = \"https://miro.medium.com/max/875/1*S5rg8bGoy46QFV76pRWHlA.png\" />"
   ]
  },
  {
   "cell_type": "markdown",
   "metadata": {},
   "source": [
    "#### We have used the Alphavantage Api for extracting the stock time series data at https://www.alphavantage.co/documentation/"
   ]
  },
  {
   "cell_type": "code",
   "execution_count": 5,
   "metadata": {},
   "outputs": [],
   "source": [
    "# STOCKS TO BE USED FOR DATA\n",
    "\n",
    "# -- GAME STOP => NOT SURE ON THIS check the search file to identify the correct symbol and run the code..\n",
    "# -- AMC => AMC\n",
    "# -- BED BATH AND BEYOND  => BBBY\n",
    "# -- BLACKBERRY => BB\n",
    "# -- NOKIA => NOK\n",
    "# -- ROBINHOOD => HOOD\n",
    "# --  Koss Corp => KOSS\n",
    "# -- CEL-SCI Corp => CVM (check this)\n",
    "# -- Tesla"
   ]
  },
  {
   "cell_type": "code",
   "execution_count": 3,
   "metadata": {},
   "outputs": [],
   "source": [
    "import os\n",
    "import re\n",
    "import time\n",
    "import csv\n",
    "import json\n",
    "import random\n",
    "import requests\n",
    "import pandas as pd\n",
    "import numpy as np\n",
    "from datetime import date, timedelta, datetime"
   ]
  },
  {
   "cell_type": "markdown",
   "metadata": {},
   "source": [
    "#### Bed Bath and Beyond"
   ]
  },
  {
   "cell_type": "code",
   "execution_count": 5,
   "metadata": {},
   "outputs": [],
   "source": [
    "# AS THE DATA APIS WORK ONLY WITH SYMBOLS, THE FIRST STEP SHOULD BE TO GET THE SYMOBLS FROM THE COMPANY NAMES using the SEARCH API provided\n",
    "# showing the Bed Bath and Beyond search as an example\n",
    "\n",
    "url = 'https://www.alphavantage.co/query?function=SYMBOL_SEARCH&keywords=Bed&apikey=Y8UEP9DUK3CNNT3R&datatype=csv'\n",
    "\n",
    "with requests.Session() as s:\n",
    "    download = s.get(url)\n",
    "    decoded_content = download.content.decode('utf-8')\n",
    "    cr = csv.reader(decoded_content.splitlines(), delimiter=',')\n",
    "    my_list = list(cr)\n",
    "\n",
    "np.savetxt(\"Bed_Bath_Beyond_Search.csv\", decoded_content.splitlines(), delimiter =',', fmt ='% s')"
   ]
  },
  {
   "cell_type": "markdown",
   "metadata": {},
   "source": [
    "#### GameStop"
   ]
  },
  {
   "cell_type": "code",
   "execution_count": 6,
   "metadata": {},
   "outputs": [],
   "source": [
    "#Search Symbol Gamestop\n",
    "\n",
    "url = 'https://www.alphavantage.co/query?function=SYMBOL_SEARCH&keywords=GAME&apikey=Y8UEP9DUK3CNNT3R&datatype=csv'\n",
    "\n",
    "with requests.Session() as s:\n",
    "    download = s.get(url)\n",
    "    decoded_content = download.content.decode('utf-8')\n",
    "    cr = csv.reader(decoded_content.splitlines(), delimiter=',')\n",
    "    my_list = list(cr)\n",
    "\n",
    "np.savetxt(\"Gamestop_search.csv\", decoded_content.splitlines(), delimiter =',', fmt ='% s')"
   ]
  },
  {
   "cell_type": "code",
   "execution_count": 7,
   "metadata": {},
   "outputs": [],
   "source": [
    "\n",
    "csv_url = 'https://www.alphavantage.co/query?function=TIME_SERIES_DAILY&symbol=GAME&outputsize=full&apikey=Y8UEP9DUK3CNNT3R&datatype=csv'\n",
    "\n",
    "with requests.Session() as s:\n",
    "    download = s.get(csv_url)\n",
    "    decoded_content = download.content.decode('utf-8')\n",
    "    cr = csv.reader(decoded_content.splitlines(), delimiter=',')\n",
    "    my_list = list(cr)\n",
    "\n",
    "np.savetxt(\"Game-Stop.csv\", decoded_content.splitlines(), delimiter =',', fmt ='% s')\n",
    "\n",
    "# print(data)"
   ]
  },
  {
   "cell_type": "markdown",
   "metadata": {},
   "source": [
    "#### AMC"
   ]
  },
  {
   "cell_type": "code",
   "execution_count": 15,
   "metadata": {},
   "outputs": [],
   "source": [
    "# -- AMC => AMC\n",
    "\n",
    "csv_url = 'https://www.alphavantage.co/query?function=TIME_SERIES_DAILY&symbol=AMC&outputsize=full&apikey=Y8UEP9DUK3CNNT3R&datatype=csv'\n",
    "\n",
    "with requests.Session() as s:\n",
    "    download = s.get(csv_url)\n",
    "    decoded_content = download.content.decode('utf-8')\n",
    "    cr = csv.reader(decoded_content.splitlines(), delimiter=',')\n",
    "    my_list = list(cr)\n",
    "\n",
    "np.savetxt(\"AMC.csv\", decoded_content.splitlines(), delimiter =',', fmt ='% s')\n"
   ]
  },
  {
   "cell_type": "markdown",
   "metadata": {},
   "source": [
    "#### BED BATH AND BEYOND"
   ]
  },
  {
   "cell_type": "code",
   "execution_count": 16,
   "metadata": {},
   "outputs": [],
   "source": [
    "# -- BED BATH AND BEYOND  => BBBY\n",
    "\n",
    "csv_url = 'https://www.alphavantage.co/query?function=TIME_SERIES_DAILY&symbol=BBBY&outputsize=full&apikey=Y8UEP9DUK3CNNT3R&datatype=csv'\n",
    "\n",
    "with requests.Session() as s:\n",
    "    download = s.get(csv_url)\n",
    "    decoded_content = download.content.decode('utf-8')\n",
    "    cr = csv.reader(decoded_content.splitlines(), delimiter=',')\n",
    "    my_list = list(cr)\n",
    "\n",
    "np.savetxt(\"Bed-Bath-Beyond.csv\", decoded_content.splitlines(), delimiter =',', fmt ='% s')"
   ]
  },
  {
   "cell_type": "markdown",
   "metadata": {},
   "source": [
    "#### BLACKBERRY"
   ]
  },
  {
   "cell_type": "code",
   "execution_count": 17,
   "metadata": {},
   "outputs": [],
   "source": [
    "# -- BLACKBERRY => BB\n",
    "\n",
    "csv_url = 'https://www.alphavantage.co/query?function=TIME_SERIES_DAILY&symbol=BB&outputsize=full&apikey=Y8UEP9DUK3CNNT3R&datatype=csv'\n",
    "\n",
    "with requests.Session() as s:\n",
    "    download = s.get(csv_url)\n",
    "    decoded_content = download.content.decode('utf-8')\n",
    "    cr = csv.reader(decoded_content.splitlines(), delimiter=',')\n",
    "    my_list = list(cr)\n",
    "\n",
    "np.savetxt(\"BlackBerry.csv\", decoded_content.splitlines(), delimiter =',', fmt ='% s')"
   ]
  },
  {
   "cell_type": "markdown",
   "metadata": {},
   "source": [
    "#### NOKIA"
   ]
  },
  {
   "cell_type": "code",
   "execution_count": 18,
   "metadata": {},
   "outputs": [],
   "source": [
    "# -- NOKIA => NOK\n",
    "\n",
    "csv_url = 'https://www.alphavantage.co/query?function=TIME_SERIES_DAILY&symbol=NOK&outputsize=full&apikey=Y8UEP9DUK3CNNT3R&datatype=csv'\n",
    "\n",
    "with requests.Session() as s:\n",
    "    download = s.get(csv_url)\n",
    "    decoded_content = download.content.decode('utf-8')\n",
    "    cr = csv.reader(decoded_content.splitlines(), delimiter=',')\n",
    "    my_list = list(cr)\n",
    "\n",
    "np.savetxt(\"Nokia.csv\", decoded_content.splitlines(), delimiter =',', fmt ='% s')"
   ]
  },
  {
   "cell_type": "markdown",
   "metadata": {},
   "source": [
    "#### ROBINHOOD"
   ]
  },
  {
   "cell_type": "code",
   "execution_count": 19,
   "metadata": {},
   "outputs": [],
   "source": [
    "# -- ROBINHOOD => HOOD\n",
    "\n",
    "csv_url = 'https://www.alphavantage.co/query?function=TIME_SERIES_DAILY&symbol=HOOD&outputsize=full&apikey=Y8UEP9DUK3CNNT3R&datatype=csv'\n",
    "\n",
    "with requests.Session() as s:\n",
    "    download = s.get(csv_url)\n",
    "    decoded_content = download.content.decode('utf-8')\n",
    "    cr = csv.reader(decoded_content.splitlines(), delimiter=',')\n",
    "    my_list = list(cr)\n",
    "\n",
    "np.savetxt(\"RobinHood.csv\", decoded_content.splitlines(), delimiter =',', fmt ='% s')"
   ]
  },
  {
   "cell_type": "markdown",
   "metadata": {},
   "source": [
    "### KOSS Corp"
   ]
  },
  {
   "cell_type": "code",
   "execution_count": 20,
   "metadata": {},
   "outputs": [],
   "source": [
    "# --  Koss Corp => KOSS\n",
    "\n",
    "csv_url = 'https://www.alphavantage.co/query?function=TIME_SERIES_DAILY&symbol=KOSS&outputsize=full&apikey=Y8UEP9DUK3CNNT3R&datatype=csv'\n",
    "\n",
    "with requests.Session() as s:\n",
    "    download = s.get(csv_url)\n",
    "    decoded_content = download.content.decode('utf-8')\n",
    "    cr = csv.reader(decoded_content.splitlines(), delimiter=',')\n",
    "    my_list = list(cr)\n",
    "\n",
    "np.savetxt(\"KOSS.csv\", decoded_content.splitlines(), delimiter =',', fmt ='% s')"
   ]
  }
 ],
 "metadata": {
  "kernelspec": {
   "display_name": "Python 3",
   "language": "python",
   "name": "python3"
  },
  "language_info": {
   "codemirror_mode": {
    "name": "ipython",
    "version": 3
   },
   "file_extension": ".py",
   "mimetype": "text/x-python",
   "name": "python",
   "nbconvert_exporter": "python",
   "pygments_lexer": "ipython3",
   "version": "3.8.5"
  }
 },
 "nbformat": 4,
 "nbformat_minor": 5
}
